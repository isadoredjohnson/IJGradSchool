{
 "cells": [
  {
   "cell_type": "code",
   "execution_count": 28,
   "id": "60106ccc-c29f-4f63-947b-e47c265a403e",
   "metadata": {},
   "outputs": [],
   "source": [
    "import numpy as np\n",
    "import pandas as pd\n",
    "from sklearn.linear_model import LogisticRegression, LogisticRegressionCV\n",
    "from sklearn.model_selection import train_test_split\n",
    "import statsmodels.api as sm\n",
    "from mord import LogisticIT\n",
    "import matplotlib.pylab as plt\n",
    "from dmba import classificationSummary, gainsChart, liftChart\n",
    "from dmba.metric import AIC_score\n",
    "from dmba import backward_elimination, forward_selection, stepwise_selection\n",
    "from dmba import exhaustive_search\n",
    "from dmba import adjusted_r2_score, AIC_score, BIC_score\n",
    "from statsmodels.stats.outliers_influence import variance_inflation_factor"
   ]
  },
  {
   "cell_type": "code",
   "execution_count": 66,
   "id": "dbc74651-4a39-4052-94f0-fbd147057a9c",
   "metadata": {
    "scrolled": true
   },
   "outputs": [
    {
     "data": {
      "text/html": [
       "<div>\n",
       "<style scoped>\n",
       "    .dataframe tbody tr th:only-of-type {\n",
       "        vertical-align: middle;\n",
       "    }\n",
       "\n",
       "    .dataframe tbody tr th {\n",
       "        vertical-align: top;\n",
       "    }\n",
       "\n",
       "    .dataframe thead th {\n",
       "        text-align: right;\n",
       "    }\n",
       "</style>\n",
       "<table border=\"1\" class=\"dataframe\">\n",
       "  <thead>\n",
       "    <tr style=\"text-align: right;\">\n",
       "      <th></th>\n",
       "      <th>ID</th>\n",
       "      <th>Price</th>\n",
       "      <th>SquareFootage</th>\n",
       "      <th>NumBathrooms</th>\n",
       "      <th>NumBedrooms</th>\n",
       "      <th>BackyardSpace</th>\n",
       "      <th>CrimeRate</th>\n",
       "      <th>SchoolRating</th>\n",
       "      <th>AgeOfHome</th>\n",
       "      <th>DistanceToCityCenter</th>\n",
       "      <th>...</th>\n",
       "      <th>RenovationQuality</th>\n",
       "      <th>LocalAmenities</th>\n",
       "      <th>TransportAccess</th>\n",
       "      <th>Fireplace</th>\n",
       "      <th>HouseColor</th>\n",
       "      <th>Garage</th>\n",
       "      <th>Floors</th>\n",
       "      <th>Windows</th>\n",
       "      <th>PreviousSalePrice</th>\n",
       "      <th>IsLuxury</th>\n",
       "    </tr>\n",
       "  </thead>\n",
       "  <tbody>\n",
       "    <tr>\n",
       "      <th>0</th>\n",
       "      <td>4922</td>\n",
       "      <td>255614.8992</td>\n",
       "      <td>566.62</td>\n",
       "      <td>1.000000</td>\n",
       "      <td>4</td>\n",
       "      <td>779.42</td>\n",
       "      <td>20.56</td>\n",
       "      <td>5.62</td>\n",
       "      <td>39.46</td>\n",
       "      <td>10.08</td>\n",
       "      <td>...</td>\n",
       "      <td>4.93</td>\n",
       "      <td>4.44</td>\n",
       "      <td>4.55</td>\n",
       "      <td>Yes</td>\n",
       "      <td>Blue</td>\n",
       "      <td>No</td>\n",
       "      <td>1</td>\n",
       "      <td>13</td>\n",
       "      <td>181861.54230</td>\n",
       "      <td>0</td>\n",
       "    </tr>\n",
       "    <tr>\n",
       "      <th>1</th>\n",
       "      <td>5009</td>\n",
       "      <td>155586.0947</td>\n",
       "      <td>1472.34</td>\n",
       "      <td>1.000000</td>\n",
       "      <td>2</td>\n",
       "      <td>656.13</td>\n",
       "      <td>15.62</td>\n",
       "      <td>5.63</td>\n",
       "      <td>40.51</td>\n",
       "      <td>7.89</td>\n",
       "      <td>...</td>\n",
       "      <td>4.08</td>\n",
       "      <td>5.56</td>\n",
       "      <td>6.83</td>\n",
       "      <td>No</td>\n",
       "      <td>Green</td>\n",
       "      <td>No</td>\n",
       "      <td>1</td>\n",
       "      <td>17</td>\n",
       "      <td>50042.59757</td>\n",
       "      <td>0</td>\n",
       "    </tr>\n",
       "    <tr>\n",
       "      <th>2</th>\n",
       "      <td>4450</td>\n",
       "      <td>131050.8324</td>\n",
       "      <td>550.00</td>\n",
       "      <td>1.779354</td>\n",
       "      <td>3</td>\n",
       "      <td>754.57</td>\n",
       "      <td>12.47</td>\n",
       "      <td>9.20</td>\n",
       "      <td>48.38</td>\n",
       "      <td>23.74</td>\n",
       "      <td>...</td>\n",
       "      <td>4.26</td>\n",
       "      <td>8.07</td>\n",
       "      <td>8.48</td>\n",
       "      <td>Yes</td>\n",
       "      <td>Green</td>\n",
       "      <td>Yes</td>\n",
       "      <td>2</td>\n",
       "      <td>34</td>\n",
       "      <td>48400.34440</td>\n",
       "      <td>0</td>\n",
       "    </tr>\n",
       "    <tr>\n",
       "      <th>3</th>\n",
       "      <td>1070</td>\n",
       "      <td>151361.7125</td>\n",
       "      <td>941.81</td>\n",
       "      <td>2.035254</td>\n",
       "      <td>2</td>\n",
       "      <td>439.59</td>\n",
       "      <td>22.22</td>\n",
       "      <td>7.08</td>\n",
       "      <td>94.67</td>\n",
       "      <td>5.22</td>\n",
       "      <td>...</td>\n",
       "      <td>4.45</td>\n",
       "      <td>5.00</td>\n",
       "      <td>6.27</td>\n",
       "      <td>Yes</td>\n",
       "      <td>Red</td>\n",
       "      <td>No</td>\n",
       "      <td>1</td>\n",
       "      <td>14</td>\n",
       "      <td>84594.12145</td>\n",
       "      <td>0</td>\n",
       "    </tr>\n",
       "    <tr>\n",
       "      <th>4</th>\n",
       "      <td>400</td>\n",
       "      <td>113167.6128</td>\n",
       "      <td>550.00</td>\n",
       "      <td>1.064644</td>\n",
       "      <td>3</td>\n",
       "      <td>353.03</td>\n",
       "      <td>8.28</td>\n",
       "      <td>5.93</td>\n",
       "      <td>16.80</td>\n",
       "      <td>43.13</td>\n",
       "      <td>...</td>\n",
       "      <td>3.36</td>\n",
       "      <td>5.46</td>\n",
       "      <td>6.99</td>\n",
       "      <td>No</td>\n",
       "      <td>White</td>\n",
       "      <td>Yes</td>\n",
       "      <td>1</td>\n",
       "      <td>21</td>\n",
       "      <td>22934.59654</td>\n",
       "      <td>0</td>\n",
       "    </tr>\n",
       "  </tbody>\n",
       "</table>\n",
       "<p>5 rows × 22 columns</p>\n",
       "</div>"
      ],
      "text/plain": [
       "     ID        Price  SquareFootage  NumBathrooms  NumBedrooms  BackyardSpace  \\\n",
       "0  4922  255614.8992         566.62      1.000000            4         779.42   \n",
       "1  5009  155586.0947        1472.34      1.000000            2         656.13   \n",
       "2  4450  131050.8324         550.00      1.779354            3         754.57   \n",
       "3  1070  151361.7125         941.81      2.035254            2         439.59   \n",
       "4   400  113167.6128         550.00      1.064644            3         353.03   \n",
       "\n",
       "   CrimeRate  SchoolRating  AgeOfHome  DistanceToCityCenter  ...  \\\n",
       "0      20.56          5.62      39.46                 10.08  ...   \n",
       "1      15.62          5.63      40.51                  7.89  ...   \n",
       "2      12.47          9.20      48.38                 23.74  ...   \n",
       "3      22.22          7.08      94.67                  5.22  ...   \n",
       "4       8.28          5.93      16.80                 43.13  ...   \n",
       "\n",
       "   RenovationQuality  LocalAmenities  TransportAccess  Fireplace  HouseColor  \\\n",
       "0               4.93            4.44             4.55        Yes        Blue   \n",
       "1               4.08            5.56             6.83         No       Green   \n",
       "2               4.26            8.07             8.48        Yes       Green   \n",
       "3               4.45            5.00             6.27        Yes         Red   \n",
       "4               3.36            5.46             6.99         No       White   \n",
       "\n",
       "  Garage Floors Windows  PreviousSalePrice  IsLuxury  \n",
       "0     No      1      13       181861.54230         0  \n",
       "1     No      1      17        50042.59757         0  \n",
       "2    Yes      2      34        48400.34440         0  \n",
       "3     No      1      14        84594.12145         0  \n",
       "4    Yes      1      21        22934.59654         0  \n",
       "\n",
       "[5 rows x 22 columns]"
      ]
     },
     "execution_count": 66,
     "metadata": {},
     "output_type": "execute_result"
    }
   ],
   "source": [
    "df = pd.read_csv(\"D600Task2Dataset1HousingInformation.csv\")\n",
    "df.head()"
   ]
  },
  {
   "cell_type": "code",
   "execution_count": 30,
   "id": "2ecf09e7-c3d1-4c23-877e-48a44eec75a4",
   "metadata": {},
   "outputs": [
    {
     "data": {
      "text/html": [
       "<div>\n",
       "<style scoped>\n",
       "    .dataframe tbody tr th:only-of-type {\n",
       "        vertical-align: middle;\n",
       "    }\n",
       "\n",
       "    .dataframe tbody tr th {\n",
       "        vertical-align: top;\n",
       "    }\n",
       "\n",
       "    .dataframe thead th {\n",
       "        text-align: right;\n",
       "    }\n",
       "</style>\n",
       "<table border=\"1\" class=\"dataframe\">\n",
       "  <thead>\n",
       "    <tr style=\"text-align: right;\">\n",
       "      <th></th>\n",
       "      <th>CrimeRate</th>\n",
       "      <th>SchoolRating</th>\n",
       "      <th>LocalAmenities</th>\n",
       "      <th>IsLuxury</th>\n",
       "    </tr>\n",
       "  </thead>\n",
       "  <tbody>\n",
       "    <tr>\n",
       "      <th>count</th>\n",
       "      <td>7000.000000</td>\n",
       "      <td>7000.000000</td>\n",
       "      <td>7000.000000</td>\n",
       "      <td>7000.00000</td>\n",
       "    </tr>\n",
       "    <tr>\n",
       "      <th>mean</th>\n",
       "      <td>31.226194</td>\n",
       "      <td>6.942923</td>\n",
       "      <td>5.934579</td>\n",
       "      <td>0.50400</td>\n",
       "    </tr>\n",
       "    <tr>\n",
       "      <th>std</th>\n",
       "      <td>18.025327</td>\n",
       "      <td>1.888148</td>\n",
       "      <td>2.657930</td>\n",
       "      <td>0.50002</td>\n",
       "    </tr>\n",
       "    <tr>\n",
       "      <th>min</th>\n",
       "      <td>0.030000</td>\n",
       "      <td>0.220000</td>\n",
       "      <td>0.000000</td>\n",
       "      <td>0.00000</td>\n",
       "    </tr>\n",
       "    <tr>\n",
       "      <th>25%</th>\n",
       "      <td>17.390000</td>\n",
       "      <td>5.650000</td>\n",
       "      <td>4.000000</td>\n",
       "      <td>0.00000</td>\n",
       "    </tr>\n",
       "    <tr>\n",
       "      <th>50%</th>\n",
       "      <td>30.385000</td>\n",
       "      <td>7.010000</td>\n",
       "      <td>6.040000</td>\n",
       "      <td>1.00000</td>\n",
       "    </tr>\n",
       "    <tr>\n",
       "      <th>75%</th>\n",
       "      <td>43.670000</td>\n",
       "      <td>8.360000</td>\n",
       "      <td>8.050000</td>\n",
       "      <td>1.00000</td>\n",
       "    </tr>\n",
       "    <tr>\n",
       "      <th>max</th>\n",
       "      <td>99.730000</td>\n",
       "      <td>10.000000</td>\n",
       "      <td>10.000000</td>\n",
       "      <td>1.00000</td>\n",
       "    </tr>\n",
       "  </tbody>\n",
       "</table>\n",
       "</div>"
      ],
      "text/plain": [
       "         CrimeRate  SchoolRating  LocalAmenities    IsLuxury\n",
       "count  7000.000000   7000.000000     7000.000000  7000.00000\n",
       "mean     31.226194      6.942923        5.934579     0.50400\n",
       "std      18.025327      1.888148        2.657930     0.50002\n",
       "min       0.030000      0.220000        0.000000     0.00000\n",
       "25%      17.390000      5.650000        4.000000     0.00000\n",
       "50%      30.385000      7.010000        6.040000     1.00000\n",
       "75%      43.670000      8.360000        8.050000     1.00000\n",
       "max      99.730000     10.000000       10.000000     1.00000"
      ]
     },
     "execution_count": 30,
     "metadata": {},
     "output_type": "execute_result"
    }
   ],
   "source": [
    "df[['CrimeRate', 'SchoolRating', 'LocalAmenities', 'IsLuxury']].describe()"
   ]
  },
  {
   "cell_type": "code",
   "execution_count": 31,
   "id": "605725f3-88af-4f8e-886a-eff911f49076",
   "metadata": {},
   "outputs": [
    {
     "name": "stdout",
     "output_type": "stream",
     "text": [
      "        Predictor  Coefficient\n",
      "0       CrimeRate     0.001914\n",
      "1    SchoolRating     0.301436\n",
      "2  LocalAmenities     0.078373\n",
      "Confusion Matrix (Accuracy 0.6224)\n",
      "\n",
      "       Prediction\n",
      "Actual    0    1\n",
      "     0 1249  834\n",
      "     1  752 1365\n",
      "None\n"
     ]
    }
   ],
   "source": [
    "# Identifying Predictors For Model\n",
    "\n",
    "Predictors = ['CrimeRate', 'SchoolRating',\n",
    "              'LocalAmenities']\n",
    "outcome = 'IsLuxury'\n",
    "\n",
    "# Partitioning Data\n",
    "\n",
    "X = pd.get_dummies(df[Predictors], drop_first=True)\n",
    "y=df[outcome]\n",
    "\n",
    "train_X, valid_X, train_y, valid_y = train_test_split(X, y, test_size=0.4, random_state=1, stratify=y)\n",
    "\n",
    "df_lr = LogisticRegression()\n",
    "df_lr.fit(train_X, train_y)\n",
    "\n",
    "# Printing Coefficients from Training Set\n",
    "print(pd.DataFrame({'Predictor': X.columns, 'Coefficient': df_lr.coef_.flatten()}))\n",
    "\n",
    "# Showcasing Performance Measures (for training)\n",
    "print(classificationSummary(train_y, df_lr.predict(train_X)))"
   ]
  },
  {
   "cell_type": "code",
   "execution_count": 32,
   "id": "92488429-92e5-412b-b21e-b471509c9c43",
   "metadata": {},
   "outputs": [
    {
     "data": {
      "text/html": [
       "<div>\n",
       "<style scoped>\n",
       "    .dataframe tbody tr th:only-of-type {\n",
       "        vertical-align: middle;\n",
       "    }\n",
       "\n",
       "    .dataframe tbody tr th {\n",
       "        vertical-align: top;\n",
       "    }\n",
       "\n",
       "    .dataframe thead th {\n",
       "        text-align: right;\n",
       "    }\n",
       "</style>\n",
       "<table border=\"1\" class=\"dataframe\">\n",
       "  <thead>\n",
       "    <tr style=\"text-align: right;\">\n",
       "      <th></th>\n",
       "      <th>n</th>\n",
       "      <th>r2adj</th>\n",
       "      <th>AIC</th>\n",
       "      <th>CrimeRate</th>\n",
       "      <th>LocalAmenities</th>\n",
       "      <th>SchoolRating</th>\n",
       "    </tr>\n",
       "  </thead>\n",
       "  <tbody>\n",
       "    <tr>\n",
       "      <th>0</th>\n",
       "      <td>1</td>\n",
       "      <td>0.539515</td>\n",
       "      <td>7913.535305</td>\n",
       "      <td>False</td>\n",
       "      <td>False</td>\n",
       "      <td>True</td>\n",
       "    </tr>\n",
       "    <tr>\n",
       "      <th>1</th>\n",
       "      <td>2</td>\n",
       "      <td>0.514746</td>\n",
       "      <td>7845.411541</td>\n",
       "      <td>False</td>\n",
       "      <td>True</td>\n",
       "      <td>True</td>\n",
       "    </tr>\n",
       "    <tr>\n",
       "      <th>2</th>\n",
       "      <td>3</td>\n",
       "      <td>0.510935</td>\n",
       "      <td>7834.832190</td>\n",
       "      <td>True</td>\n",
       "      <td>True</td>\n",
       "      <td>True</td>\n",
       "    </tr>\n",
       "  </tbody>\n",
       "</table>\n",
       "</div>"
      ],
      "text/plain": [
       "   n     r2adj          AIC  CrimeRate  LocalAmenities  SchoolRating\n",
       "0  1  0.539515  7913.535305      False           False          True\n",
       "1  2  0.514746  7845.411541      False            True          True\n",
       "2  3  0.510935  7834.832190       True            True          True"
      ]
     },
     "execution_count": 32,
     "metadata": {},
     "output_type": "execute_result"
    }
   ],
   "source": [
    "def train_model(variables):\n",
    "    model = LogisticRegression()\n",
    "    model.fit(train_X[list(variables)], train_y)\n",
    "    return model\n",
    "\n",
    "def score_model(model, variables):\n",
    "    pred_y = model.predict(train_X[list(variables)])\n",
    "    return -adjusted_r2_score(train_y, pred_y, model)\n",
    "\n",
    "allVariables = train_X.columns\n",
    "results = exhaustive_search(allVariables, train_model, score_model)\n",
    "\n",
    "data = []\n",
    "for result in results:\n",
    "    model = result['model']\n",
    "    variables = list(result['variables'])\n",
    "    AIC = AIC_score(train_y, model.predict(train_X[variables]), model)\n",
    "    \n",
    "    d = {'n': result['n'], 'r2adj': result['score'], 'AIC': AIC}\n",
    "    d.update({var: var in result['variables'] for var in allVariables})\n",
    "    data.append(d)\n",
    "pd.DataFrame(data, columns=('n', 'r2adj', 'AIC') + tuple(sorted(allVariables)))\n",
    "\n",
    "# Because AIC is lowest where N=3, I think the optimized model should be the one\n",
    "#with all the original variables."
   ]
  },
  {
   "cell_type": "code",
   "execution_count": 33,
   "id": "4b6ab729-0bec-46ff-afb7-c9c230e6972c",
   "metadata": {},
   "outputs": [
    {
     "name": "stdout",
     "output_type": "stream",
     "text": [
      "Confusion Matrix (Accuracy 0.6224)\n",
      "\n",
      "       Prediction\n",
      "Actual    0    1\n",
      "     0 1249  834\n",
      "     1  752 1365\n",
      "None\n"
     ]
    }
   ],
   "source": [
    "#Train Performance\n",
    "print(classificationSummary(train_y, df_lr.predict(train_X)))"
   ]
  },
  {
   "cell_type": "code",
   "execution_count": 34,
   "id": "916ac896-d991-43ac-a2c4-d67413e2794a",
   "metadata": {},
   "outputs": [
    {
     "name": "stdout",
     "output_type": "stream",
     "text": [
      "Confusion Matrix (Accuracy 0.6114)\n",
      "\n",
      "       Prediction\n",
      "Actual   0   1\n",
      "     0 832 557\n",
      "     1 531 880\n",
      "None\n"
     ]
    }
   ],
   "source": [
    "#Test Performance\n",
    "print(classificationSummary(valid_y, df_lr.predict(valid_X)))"
   ]
  },
  {
   "cell_type": "code",
   "execution_count": 35,
   "id": "b728def8-8e83-480e-a4a9-78c9141108de",
   "metadata": {},
   "outputs": [
    {
     "name": "stdout",
     "output_type": "stream",
     "text": [
      "Optimization terminated successfully.\n",
      "         Current function value: 0.650048\n",
      "         Iterations 5\n",
      "                           Logit Regression Results                           \n",
      "==============================================================================\n",
      "Dep. Variable:               IsLuxury   No. Observations:                 4200\n",
      "Model:                          Logit   Df Residuals:                     4196\n",
      "Method:                           MLE   Df Model:                            3\n",
      "Date:                Sun, 22 Dec 2024   Pseudo R-squ.:                 0.06213\n",
      "Time:                        11:53:23   Log-Likelihood:                -2730.2\n",
      "converged:                       True   LL-Null:                       -2911.1\n",
      "Covariance Type:            nonrobust   LLR p-value:                 4.251e-78\n",
      "==================================================================================\n",
      "                     coef    std err          z      P>|z|      [0.025      0.975]\n",
      "----------------------------------------------------------------------------------\n",
      "Intercept         -2.6062      0.169    -15.465      0.000      -2.936      -2.276\n",
      "CrimeRate          0.0019      0.002      1.050      0.294      -0.002       0.005\n",
      "SchoolRating       0.3015      0.019     16.216      0.000       0.265       0.338\n",
      "LocalAmenities     0.0784      0.012      6.304      0.000       0.054       0.103\n",
      "==================================================================================\n"
     ]
    }
   ],
   "source": [
    "#Train Model\n",
    "\n",
    "#Combine the filtered predictors with train_y\n",
    "train_df = train_X.join(train_y)\n",
    "\n",
    "# Create the formula for logistic regression\n",
    "formula = 'IsLuxury ~ ' + ' + '.join(Predictors)\n",
    "\n",
    "# Fit the logistic regression model\n",
    "housetrain_logit = sm.Logit.from_formula(formula, data=train_df).fit()\n",
    "\n",
    "# Display the summary of the model\n",
    "print(housetrain_logit.summary())"
   ]
  },
  {
   "cell_type": "code",
   "execution_count": 36,
   "id": "3c8a2dcb-dbb2-41b2-9df5-e59d18906571",
   "metadata": {},
   "outputs": [
    {
     "name": "stdout",
     "output_type": "stream",
     "text": [
      "Optimization terminated successfully.\n",
      "         Current function value: 0.658439\n",
      "         Iterations 5\n",
      "                           Logit Regression Results                           \n",
      "==============================================================================\n",
      "Dep. Variable:               IsLuxury   No. Observations:                 2800\n",
      "Model:                          Logit   Df Residuals:                     2796\n",
      "Method:                           MLE   Df Model:                            3\n",
      "Date:                Sun, 22 Dec 2024   Pseudo R-squ.:                 0.05003\n",
      "Time:                        11:53:23   Log-Likelihood:                -1843.6\n",
      "converged:                       True   LL-Null:                       -1940.7\n",
      "Covariance Type:            nonrobust   LLR p-value:                 7.590e-42\n",
      "==================================================================================\n",
      "                     coef    std err          z      P>|z|      [0.025      0.975]\n",
      "----------------------------------------------------------------------------------\n",
      "Intercept         -2.2622      0.197    -11.460      0.000      -2.649      -1.875\n",
      "CrimeRate          0.0018      0.002      0.838      0.402      -0.002       0.006\n",
      "SchoolRating       0.2683      0.022     12.093      0.000       0.225       0.312\n",
      "LocalAmenities     0.0601      0.015      4.076      0.000       0.031       0.089\n",
      "==================================================================================\n"
     ]
    }
   ],
   "source": [
    "#Test Model\n",
    "\n",
    "#Combine the filtered predictors with train_y\n",
    "valid_df = valid_X.join(valid_y)\n",
    "\n",
    "# Create the formula for logistic regression\n",
    "formula = 'IsLuxury ~ ' + ' + '.join(Predictors)\n",
    "\n",
    "# Fit the logistic regression model\n",
    "housevalid_logit = sm.Logit.from_formula(formula, data=valid_df).fit()\n",
    "\n",
    "# Display the summary of the model\n",
    "print(housevalid_logit.summary())"
   ]
  },
  {
   "cell_type": "code",
   "execution_count": 37,
   "id": "c739d345-6e70-463e-820f-3811175ee5fe",
   "metadata": {},
   "outputs": [
    {
     "name": "stdout",
     "output_type": "stream",
     "text": [
      "[0 1]\n"
     ]
    }
   ],
   "source": [
    "# IsLuxury Binary\n",
    "print(df['IsLuxury'].unique())\n"
   ]
  },
  {
   "cell_type": "code",
   "execution_count": 38,
   "id": "0d28123e-1351-46d6-992f-f6ecf337500e",
   "metadata": {},
   "outputs": [
    {
     "name": "stdout",
     "output_type": "stream",
     "text": [
      "Empty DataFrame\n",
      "Columns: [ID, Price, SquareFootage, NumBathrooms, NumBedrooms, BackyardSpace, CrimeRate, SchoolRating, AgeOfHome, DistanceToCityCenter, EmploymentRate, PropertyTaxRate, RenovationQuality, LocalAmenities, TransportAccess, Fireplace, HouseColor, Garage, Floors, Windows, PreviousSalePrice, IsLuxury]\n",
      "Index: []\n",
      "\n",
      "[0 rows x 22 columns]\n"
     ]
    }
   ],
   "source": [
    "duplicates = df.duplicated()\n",
    "print(df[duplicates])"
   ]
  },
  {
   "cell_type": "code",
   "execution_count": 39,
   "id": "fa594256-791d-4859-aa25-999cc032d2e8",
   "metadata": {},
   "outputs": [
    {
     "name": "stdout",
     "output_type": "stream",
     "text": [
      "        Predictor       VIF\n",
      "0       CrimeRate  3.041785\n",
      "1    SchoolRating  6.091481\n",
      "2  LocalAmenities  5.366036\n"
     ]
    }
   ],
   "source": [
    "# Multicollinearity\n",
    "predictors_df = train_X  # Assuming train_X_filtered contains only the predictors\n",
    "\n",
    "# Calculate VIF for each predictor\n",
    "vif_data = pd.DataFrame()\n",
    "vif_data['Predictor'] = predictors_df.columns\n",
    "vif_data['VIF'] = [variance_inflation_factor(predictors_df.values, i) for i in range(predictors_df.shape[1])]\n",
    "\n",
    "# Display the VIF values\n",
    "print(vif_data)"
   ]
  },
  {
   "cell_type": "code",
   "execution_count": 42,
   "id": "3171a343-912a-4b8e-bf16-060e6d6f6480",
   "metadata": {},
   "outputs": [
    {
     "data": {
      "image/png": "[encoded data removed]",
      "text/plain": [
       "<Figure size 640x480 with 1 Axes>"
      ]
     },
     "metadata": {},
     "output_type": "display_data"
    }
   ],
   "source": [
    "# Boxplot CrimeRate\n",
    "data=df['CrimeRate']\n",
    "plt.boxplot(data)\n",
    "plt.show()\n"
   ]
  },
  {
   "cell_type": "code",
   "execution_count": 44,
   "id": "ee7989d7-f78b-4357-9278-83f162e24978",
   "metadata": {},
   "outputs": [
    {
     "data": {
      "image/png": "[encoded data removed]",
      "text/plain": [
       "<Figure size 640x480 with 1 Axes>"
      ]
     },
     "metadata": {},
     "output_type": "display_data"
    }
   ],
   "source": [
    "# Boxplot SchoolRating\n",
    "data=df['SchoolRating']\n",
    "plt.boxplot(data)\n",
    "plt.show()"
   ]
  },
  {
   "cell_type": "code",
   "execution_count": 46,
   "id": "0d308537-a2ae-4786-82f3-40dff6ea2072",
   "metadata": {},
   "outputs": [
    {
     "data": {
      "image/png": "[encoded data removed]",
      "text/plain": [
       "<Figure size 640x480 with 1 Axes>"
      ]
     },
     "metadata": {},
     "output_type": "display_data"
    }
   ],
   "source": [
    "# Boxplot LocalAmenities \n",
    "data=df['LocalAmenities']\n",
    "plt.boxplot(data)\n",
    "plt.show()"
   ]
  },
  {
   "cell_type": "code",
   "execution_count": 50,
   "id": "d7229af7-d1a3-435c-a9a8-5023fbf93b05",
   "metadata": {},
   "outputs": [
    {
     "data": {
      "text/plain": [
       "<function matplotlib.pyplot.show(close=None, block=None)>"
      ]
     },
     "execution_count": 50,
     "metadata": {},
     "output_type": "execute_result"
    },
    {
     "data": {
      "image/png": "[encoded data removed]",
      "text/plain": [
       "<Figure size 640x480 with 1 Axes>"
      ]
     },
     "metadata": {},
     "output_type": "display_data"
    }
   ],
   "source": [
    "#CrimeRate Comparison\n",
    "df.boxplot(column='CrimeRate', by='IsLuxury', grid=False, showmeans=True)\n",
    "plt.show"
   ]
  },
  {
   "cell_type": "code",
   "execution_count": 59,
   "id": "93bc1d31-3af8-4ba4-b103-a2bed48cb628",
   "metadata": {},
   "outputs": [
    {
     "data": {
      "text/plain": [
       "<function matplotlib.pyplot.show(close=None, block=None)>"
      ]
     },
     "execution_count": 59,
     "metadata": {},
     "output_type": "execute_result"
    },
    {
     "data": {
      "image/png": "[encoded data removed]",
      "text/plain": [
       "<Figure size 640x480 with 1 Axes>"
      ]
     },
     "metadata": {},
     "output_type": "display_data"
    }
   ],
   "source": [
    "#SchoolRating Comparison\n",
    "df.boxplot(column='SchoolRating', by='IsLuxury', grid=False, showmeans=True)\n",
    "plt.show"
   ]
  },
  {
   "cell_type": "code",
   "execution_count": 61,
   "id": "bd087ae1-af5d-4f02-a3f1-b649f7bc23bb",
   "metadata": {},
   "outputs": [
    {
     "data": {
      "text/plain": [
       "<function matplotlib.pyplot.show(close=None, block=None)>"
      ]
     },
     "execution_count": 61,
     "metadata": {},
     "output_type": "execute_result"
    },
    {
     "data": {
      "image/png": "[encoded data removed]",
      "text/plain": [
       "<Figure size 640x480 with 1 Axes>"
      ]
     },
     "metadata": {},
     "output_type": "display_data"
    }
   ],
   "source": [
    "#LocalAmenities Comparison\n",
    "df.boxplot(column='LocalAmenities', by='IsLuxury', grid=False, showmeans=True)\n",
    "plt.show"
   ]
  },
  {
   "cell_type": "code",
   "execution_count": 63,
   "id": "1d1802f3-8f78-413c-aaa2-2a5b022be2cc",
   "metadata": {},
   "outputs": [],
   "source": [
    "# Printing out \n",
    "\n",
    "valid_df.to_csv('logistictest.csv')\n",
    "train_df.to_csv('logistictrain.csv')"
   ]
  },
  {
   "cell_type": "code",
   "execution_count": null,
   "id": "fe196afb-3612-41c0-988d-80c44c22ce17",
   "metadata": {},
   "outputs": [],
   "source": []
  }
 ],
 "metadata": {
  "kernelspec": {
   "display_name": "Python 3 (ipykernel)",
   "language": "python",
   "name": "python3"
  },
  "language_info": {
   "codemirror_mode": {
    "name": "ipython",
    "version": 3
   },
   "file_extension": ".py",
   "mimetype": "text/x-python",
   "name": "python",
   "nbconvert_exporter": "python",
   "pygments_lexer": "ipython3",
   "version": "3.12.7"
  }
 },
 "nbformat": 4,
 "nbformat_minor": 5
}
