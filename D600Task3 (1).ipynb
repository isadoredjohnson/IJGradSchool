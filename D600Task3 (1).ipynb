{
 "cells": [
  {
   "cell_type": "code",
   "execution_count": 1,
   "id": "f98247ca-9d26-494a-bcf7-61549334a2e4",
   "metadata": {},
   "outputs": [
    {
     "name": "stdout",
     "output_type": "stream",
     "text": [
      "done\n"
     ]
    }
   ],
   "source": [
    "#Reproducing Original Model\n",
    "import numpy as np\n",
    "import pandas as pd\n",
    "from sklearn.model_selection import train_test_split\n",
    "from sklearn.preprocessing import StandardScaler\n",
    "from sklearn.decomposition import PCA\n",
    "from sklearn.linear_model import LinearRegression\n",
    "import statsmodels.formula.api as sm\n",
    "from sklearn.metrics import mean_squared_error\n",
    "import matplotlib.pylab as plt\n",
    "import dmba \n",
    "from dmba import regressionSummary\n",
    "from dmba import backward_elimination, forward_selection, stepwise_selection\n",
    "from dmba import adjusted_r2_score, AIC_score, BIC_score\n",
    "print('done')"
   ]
  },
  {
   "cell_type": "code",
   "execution_count": 2,
   "id": "7fad1267-ee73-4cb0-8246-a9c7666f7cff",
   "metadata": {},
   "outputs": [
    {
     "name": "stdout",
     "output_type": "stream",
     "text": [
      "        ID        Price  SquareFootage  NumBathrooms  NumBedrooms  \\\n",
      "0     4922  255614.8992         566.62      1.000000            4   \n",
      "1     5009  155586.0947        1472.34      1.000000            2   \n",
      "2     4450  131050.8324         550.00      1.779354            3   \n",
      "3     1070  151361.7125         941.81      2.035254            2   \n",
      "4      400  113167.6128         550.00      1.064644            3   \n",
      "...    ...          ...            ...           ...          ...   \n",
      "6995  6987  307821.1758         550.00      2.111022            4   \n",
      "6996  6995  421368.8869        1726.12      4.056115            2   \n",
      "6997  6996  473382.5348        1026.36      2.077177            5   \n",
      "6998  6998  343397.9756        2218.22      1.000000            4   \n",
      "6999  7000  438060.8193        1553.57      3.988377            4   \n",
      "\n",
      "      BackyardSpace  CrimeRate  SchoolRating  AgeOfHome  DistanceToCityCenter  \\\n",
      "0            779.42      20.56          5.62      39.46                 10.08   \n",
      "1            656.13      15.62          5.63      40.51                  7.89   \n",
      "2            754.57      12.47          9.20      48.38                 23.74   \n",
      "3            439.59      22.22          7.08      94.67                  5.22   \n",
      "4            353.03       8.28          5.93      16.80                 43.13   \n",
      "...             ...        ...           ...        ...                   ...   \n",
      "6995         892.35      11.89          7.97      28.18                 19.23   \n",
      "6996         943.19      34.06          5.82      90.45                 17.60   \n",
      "6997         149.31       0.10          8.81      31.79                 11.59   \n",
      "6998         526.81      11.18          9.20      15.21                  3.96   \n",
      "6999         844.06      18.80         10.00      26.07                 24.40   \n",
      "\n",
      "      ...  RenovationQuality  LocalAmenities  TransportAccess  Fireplace  \\\n",
      "0     ...               4.93            4.44             4.55        Yes   \n",
      "1     ...               4.08            5.56             6.83         No   \n",
      "2     ...               4.26            8.07             8.48        Yes   \n",
      "3     ...               4.45            5.00             6.27        Yes   \n",
      "4     ...               3.36            5.46             6.99         No   \n",
      "...   ...                ...             ...              ...        ...   \n",
      "6995  ...               4.76            3.81             6.87         No   \n",
      "6996  ...               5.31            9.84            10.00         No   \n",
      "6997  ...               4.98            7.47             2.96         No   \n",
      "6998  ...               4.68            7.66             6.12         No   \n",
      "6999  ...               8.80            6.66             5.19         No   \n",
      "\n",
      "      HouseColor Garage Floors Windows  PreviousSalePrice  IsLuxury  \n",
      "0           Blue     No      1      13       181861.54230         0  \n",
      "1          Green     No      1      17        50042.59757         0  \n",
      "2          Green    Yes      2      34        48400.34440         0  \n",
      "3            Red     No      1      14        84594.12145         0  \n",
      "4          White    Yes      1      21        22934.59654         0  \n",
      "...          ...    ...    ...     ...                ...       ...  \n",
      "6995       White    Yes      1      18       241131.63070         1  \n",
      "6996       White    Yes      1      18       481604.80730         1  \n",
      "6997       Green     No      1      13       380555.49390         1  \n",
      "6998        Blue    Yes      1      10       442610.31710         0  \n",
      "6999       White    Yes      1      19       492214.95980         1  \n",
      "\n",
      "[7000 rows x 22 columns]\n"
     ]
    }
   ],
   "source": [
    "# Reading In Dataframe\n",
    "df = pd.read_csv(\"D600 Task 3 Dataset 1 Housing Information.csv\")\n",
    "print(df) # There are 7000 records"
   ]
  },
  {
   "cell_type": "code",
   "execution_count": 3,
   "id": "0f1aee84-5db4-4af5-9cf2-aa339bdbdac7",
   "metadata": {},
   "outputs": [
    {
     "data": {
      "text/html": [
       "<div>\n",
       "<style scoped>\n",
       "    .dataframe tbody tr th:only-of-type {\n",
       "        vertical-align: middle;\n",
       "    }\n",
       "\n",
       "    .dataframe tbody tr th {\n",
       "        vertical-align: top;\n",
       "    }\n",
       "\n",
       "    .dataframe thead th {\n",
       "        text-align: right;\n",
       "    }\n",
       "</style>\n",
       "<table border=\"1\" class=\"dataframe\">\n",
       "  <thead>\n",
       "    <tr style=\"text-align: right;\">\n",
       "      <th></th>\n",
       "      <th>SquareFootage</th>\n",
       "      <th>NumBathrooms</th>\n",
       "      <th>NumBedrooms</th>\n",
       "      <th>AgeOfHome</th>\n",
       "      <th>Floors</th>\n",
       "      <th>Windows</th>\n",
       "      <th>Price</th>\n",
       "    </tr>\n",
       "  </thead>\n",
       "  <tbody>\n",
       "    <tr>\n",
       "      <th>0</th>\n",
       "      <td>-1.132277</td>\n",
       "      <td>-1.187828</td>\n",
       "      <td>0.970213</td>\n",
       "      <td>-0.230889</td>\n",
       "      <td>-0.438098</td>\n",
       "      <td>-0.363983</td>\n",
       "      <td>255614.8992</td>\n",
       "    </tr>\n",
       "    <tr>\n",
       "      <th>1</th>\n",
       "      <td>0.993926</td>\n",
       "      <td>-1.187828</td>\n",
       "      <td>-0.986989</td>\n",
       "      <td>-0.197846</td>\n",
       "      <td>-0.438098</td>\n",
       "      <td>0.084154</td>\n",
       "      <td>155586.0947</td>\n",
       "    </tr>\n",
       "    <tr>\n",
       "      <th>2</th>\n",
       "      <td>-1.171293</td>\n",
       "      <td>-0.369602</td>\n",
       "      <td>-0.008388</td>\n",
       "      <td>0.049814</td>\n",
       "      <td>2.249618</td>\n",
       "      <td>1.988736</td>\n",
       "      <td>131050.8324</td>\n",
       "    </tr>\n",
       "    <tr>\n",
       "      <th>3</th>\n",
       "      <td>-0.251508</td>\n",
       "      <td>-0.100938</td>\n",
       "      <td>-0.986989</td>\n",
       "      <td>1.506508</td>\n",
       "      <td>-0.438098</td>\n",
       "      <td>-0.251949</td>\n",
       "      <td>151361.7125</td>\n",
       "    </tr>\n",
       "    <tr>\n",
       "      <th>4</th>\n",
       "      <td>-1.171293</td>\n",
       "      <td>-1.119960</td>\n",
       "      <td>-0.008388</td>\n",
       "      <td>-0.943973</td>\n",
       "      <td>-0.438098</td>\n",
       "      <td>0.532291</td>\n",
       "      <td>113167.6128</td>\n",
       "    </tr>\n",
       "  </tbody>\n",
       "</table>\n",
       "</div>"
      ],
      "text/plain": [
       "   SquareFootage  NumBathrooms  NumBedrooms  AgeOfHome    Floors   Windows  \\\n",
       "0      -1.132277     -1.187828     0.970213  -0.230889 -0.438098 -0.363983   \n",
       "1       0.993926     -1.187828    -0.986989  -0.197846 -0.438098  0.084154   \n",
       "2      -1.171293     -0.369602    -0.008388   0.049814  2.249618  1.988736   \n",
       "3      -0.251508     -0.100938    -0.986989   1.506508 -0.438098 -0.251949   \n",
       "4      -1.171293     -1.119960    -0.008388  -0.943973 -0.438098  0.532291   \n",
       "\n",
       "         Price  \n",
       "0  255614.8992  \n",
       "1  155586.0947  \n",
       "2  131050.8324  \n",
       "3  151361.7125  \n",
       "4  113167.6128  "
      ]
     },
     "execution_count": 3,
     "metadata": {},
     "output_type": "execute_result"
    }
   ],
   "source": [
    "# Identifying Predictors For Model from Task 1\n",
    "\n",
    "Predictors = ['SquareFootage', 'NumBathrooms',\n",
    "              'NumBedrooms', 'AgeOfHome', 'Floors', 'Windows']\n",
    "outcome = 'Price'\n",
    "\n",
    "scaler= StandardScaler()\n",
    "standardized_predictor=scaler.fit_transform(df[Predictors])\n",
    "df[Predictors]=standardized_predictor\n",
    "\n",
    "columnskept = ['SquareFootage', 'NumBathrooms',\n",
    "              'NumBedrooms', 'AgeOfHome', 'Floors', 'Windows', 'Price']\n",
    "dfkept = df.filter(items=columnskept)\n",
    "dfkept.head()"
   ]
  },
  {
   "cell_type": "code",
   "execution_count": 4,
   "id": "efeeca77-f14a-43d5-a37b-e9bf6c9ff7b8",
   "metadata": {},
   "outputs": [],
   "source": [
    "dfkept.to_csv('D600T3Standard.csv')\n",
    "#All these variables look very close to zero on mean, and very close to 1 on standard deviation"
   ]
  },
  {
   "cell_type": "code",
   "execution_count": 5,
   "id": "f24b931e-b28e-42df-83c4-0c1af5dd2242",
   "metadata": {},
   "outputs": [
    {
     "data": {
      "text/html": [
       "<div>\n",
       "<style scoped>\n",
       "    .dataframe tbody tr th:only-of-type {\n",
       "        vertical-align: middle;\n",
       "    }\n",
       "\n",
       "    .dataframe tbody tr th {\n",
       "        vertical-align: top;\n",
       "    }\n",
       "\n",
       "    .dataframe thead th {\n",
       "        text-align: right;\n",
       "    }\n",
       "</style>\n",
       "<table border=\"1\" class=\"dataframe\">\n",
       "  <thead>\n",
       "    <tr style=\"text-align: right;\">\n",
       "      <th></th>\n",
       "      <th>SquareFootage</th>\n",
       "      <th>NumBathrooms</th>\n",
       "      <th>NumBedrooms</th>\n",
       "      <th>AgeOfHome</th>\n",
       "      <th>Floors</th>\n",
       "      <th>Windows</th>\n",
       "      <th>Price</th>\n",
       "    </tr>\n",
       "  </thead>\n",
       "  <tbody>\n",
       "    <tr>\n",
       "      <th>count</th>\n",
       "      <td>7000.000000</td>\n",
       "      <td>7.000000e+03</td>\n",
       "      <td>7.000000e+03</td>\n",
       "      <td>7.000000e+03</td>\n",
       "      <td>7.000000e+03</td>\n",
       "      <td>7.000000e+03</td>\n",
       "      <td>7.000000e+03</td>\n",
       "    </tr>\n",
       "    <tr>\n",
       "      <th>mean</th>\n",
       "      <td>0.000000</td>\n",
       "      <td>1.299278e-16</td>\n",
       "      <td>1.624098e-16</td>\n",
       "      <td>-4.060244e-17</td>\n",
       "      <td>-6.496391e-17</td>\n",
       "      <td>-1.319579e-16</td>\n",
       "      <td>3.072820e+05</td>\n",
       "    </tr>\n",
       "    <tr>\n",
       "      <th>std</th>\n",
       "      <td>1.000071</td>\n",
       "      <td>1.000071e+00</td>\n",
       "      <td>1.000071e+00</td>\n",
       "      <td>1.000071e+00</td>\n",
       "      <td>1.000071e+00</td>\n",
       "      <td>1.000071e+00</td>\n",
       "      <td>1.501734e+05</td>\n",
       "    </tr>\n",
       "    <tr>\n",
       "      <th>min</th>\n",
       "      <td>-1.171293</td>\n",
       "      <td>-1.187828e+00</td>\n",
       "      <td>-1.965590e+00</td>\n",
       "      <td>-1.472336e+00</td>\n",
       "      <td>-4.380977e-01</td>\n",
       "      <td>-2.492634e+00</td>\n",
       "      <td>8.500000e+04</td>\n",
       "    </tr>\n",
       "    <tr>\n",
       "      <th>25%</th>\n",
       "      <td>-0.911152</td>\n",
       "      <td>-8.827976e-01</td>\n",
       "      <td>-9.869889e-01</td>\n",
       "      <td>-8.195139e-01</td>\n",
       "      <td>-4.380977e-01</td>\n",
       "      <td>-5.880518e-01</td>\n",
       "      <td>1.921075e+05</td>\n",
       "    </tr>\n",
       "    <tr>\n",
       "      <th>50%</th>\n",
       "      <td>-0.123544</td>\n",
       "      <td>-1.402883e-01</td>\n",
       "      <td>-8.388008e-03</td>\n",
       "      <td>-1.314469e-01</td>\n",
       "      <td>-4.380977e-01</td>\n",
       "      <td>-1.399148e-01</td>\n",
       "      <td>2.793230e+05</td>\n",
       "    </tr>\n",
       "    <tr>\n",
       "      <th>75%</th>\n",
       "      <td>0.688636</td>\n",
       "      <td>6.641519e-01</td>\n",
       "      <td>9.702129e-01</td>\n",
       "      <td>6.430807e-01</td>\n",
       "      <td>-4.380977e-01</td>\n",
       "      <td>4.202565e-01</td>\n",
       "      <td>3.918781e+05</td>\n",
       "    </tr>\n",
       "    <tr>\n",
       "      <th>max</th>\n",
       "      <td>4.286005</td>\n",
       "      <td>3.859180e+00</td>\n",
       "      <td>3.906016e+00</td>\n",
       "      <td>4.150208e+00</td>\n",
       "      <td>4.937334e+00</td>\n",
       "      <td>5.237730e+00</td>\n",
       "      <td>1.046676e+06</td>\n",
       "    </tr>\n",
       "  </tbody>\n",
       "</table>\n",
       "</div>"
      ],
      "text/plain": [
       "       SquareFootage  NumBathrooms   NumBedrooms     AgeOfHome        Floors  \\\n",
       "count    7000.000000  7.000000e+03  7.000000e+03  7.000000e+03  7.000000e+03   \n",
       "mean        0.000000  1.299278e-16  1.624098e-16 -4.060244e-17 -6.496391e-17   \n",
       "std         1.000071  1.000071e+00  1.000071e+00  1.000071e+00  1.000071e+00   \n",
       "min        -1.171293 -1.187828e+00 -1.965590e+00 -1.472336e+00 -4.380977e-01   \n",
       "25%        -0.911152 -8.827976e-01 -9.869889e-01 -8.195139e-01 -4.380977e-01   \n",
       "50%        -0.123544 -1.402883e-01 -8.388008e-03 -1.314469e-01 -4.380977e-01   \n",
       "75%         0.688636  6.641519e-01  9.702129e-01  6.430807e-01 -4.380977e-01   \n",
       "max         4.286005  3.859180e+00  3.906016e+00  4.150208e+00  4.937334e+00   \n",
       "\n",
       "            Windows         Price  \n",
       "count  7.000000e+03  7.000000e+03  \n",
       "mean  -1.319579e-16  3.072820e+05  \n",
       "std    1.000071e+00  1.501734e+05  \n",
       "min   -2.492634e+00  8.500000e+04  \n",
       "25%   -5.880518e-01  1.921075e+05  \n",
       "50%   -1.399148e-01  2.793230e+05  \n",
       "75%    4.202565e-01  3.918781e+05  \n",
       "max    5.237730e+00  1.046676e+06  "
      ]
     },
     "execution_count": 5,
     "metadata": {},
     "output_type": "execute_result"
    }
   ],
   "source": [
    "dfkept.describe()"
   ]
  },
  {
   "cell_type": "code",
   "execution_count": 6,
   "id": "d34149a3-d70f-4695-8159-4554629fc2e0",
   "metadata": {},
   "outputs": [
    {
     "name": "stdout",
     "output_type": "stream",
     "text": [
      "PCA Loadings (Components):\n",
      "     SquareFootage  NumBathrooms  NumBedrooms  AgeOfHome    Floors   Windows\n",
      "PC1       0.008394      0.006725     0.009783  -0.021246  0.706883  0.706861\n",
      "PC2       0.553539      0.550737     0.456364  -0.426072 -0.015208 -0.015727\n",
      "PC3       0.424012      0.441938    -0.424656   0.666656  0.007101  0.009574\n",
      "PC4      -0.099557     -0.074921     0.781825   0.610881  0.003030  0.006405\n",
      "PC5       0.709639     -0.703922     0.007301   0.019902 -0.015703  0.014470\n",
      "PC6       0.015445     -0.014630     0.001111   0.003206  0.706950 -0.706935\n"
     ]
    }
   ],
   "source": [
    "#Doing PCA\n",
    "pca = PCA()\n",
    "X_pca = pca.fit_transform(standardized_predictor)\n",
    "\n",
    "# Built the Matrix\n",
    "pca_components = pca.components_\n",
    "\n",
    "# Visually Displayed the Matrix\n",
    "\n",
    "pca_loadings_df = pd.DataFrame(pca_components, columns=Predictors, index=[f\"PC{i+1}\" for i in range(pca_components.shape[0])])\n",
    "\n",
    "# Display the loadings matrix\n",
    "print(\"PCA Loadings (Components):\")\n",
    "print(pca_loadings_df)"
   ]
  },
  {
   "cell_type": "code",
   "execution_count": 7,
   "id": "20818499-1e57-4283-b395-4f826af46438",
   "metadata": {},
   "outputs": [
    {
     "data": {
      "image/png": "[encoded data removed]",
      "text/plain": [
       "<Figure size 640x480 with 1 Axes>"
      ]
     },
     "metadata": {},
     "output_type": "display_data"
    }
   ],
   "source": [
    "explained_variance = pca.explained_variance_ratio_\n",
    "plt.plot(range(1, len(explained_variance) + 1), explained_variance, marker='o', linestyle='--')\n",
    "plt.title('Scree Plot')\n",
    "plt.grid(True)\n",
    "plt.show()"
   ]
  },
  {
   "cell_type": "code",
   "execution_count": 8,
   "id": "b7671576-112b-415e-9724-92daba0fcac3",
   "metadata": {},
   "outputs": [
    {
     "data": {
      "image/png": "[encoded data removed]",
      "text/plain": [
       "<Figure size 800x600 with 1 Axes>"
      ]
     },
     "metadata": {},
     "output_type": "display_data"
    }
   ],
   "source": [
    "cumulative_explained_variance = pca.explained_variance_ratio_.cumsum()\n",
    "plt.figure(figsize=(8,6))\n",
    "plt.plot(range(1, len(cumulative_explained_variance) + 1), cumulative_explained_variance, marker='o', linestyle='--', color='r')\n",
    "plt.title('Cumulative Explained Variance')\n",
    "plt.xlabel('Principal Components')\n",
    "plt.ylabel('Cumulative Variance Explained')\n",
    "plt.grid(True)\n",
    "plt.show()"
   ]
  },
  {
   "cell_type": "code",
   "execution_count": 9,
   "id": "eada1a27-7841-4370-969e-084714384895",
   "metadata": {},
   "outputs": [
    {
     "name": "stdout",
     "output_type": "stream",
     "text": [
      "Number of principal components to keep (Kaiser Rule): 2\n"
     ]
    }
   ],
   "source": [
    "# Get the eigenvalues (explained variance) from PCA\n",
    "eigenvalues = pca.explained_variance_\n",
    "\n",
    "#  Keep components with eigenvalues > 1\n",
    "num_components_to_keep = np.sum(eigenvalues > 1)\n",
    "\n",
    "# Output the number of components to keep\n",
    "print(f\"Number of principal components to keep (Kaiser Rule): {num_components_to_keep}\")"
   ]
  },
  {
   "cell_type": "code",
   "execution_count": 38,
   "id": "c05e21b5-419c-426d-a810-b8216ce30511",
   "metadata": {},
   "outputs": [
    {
     "data": {
      "text/html": [
       "<div>\n",
       "<style scoped>\n",
       "    .dataframe tbody tr th:only-of-type {\n",
       "        vertical-align: middle;\n",
       "    }\n",
       "\n",
       "    .dataframe tbody tr th {\n",
       "        vertical-align: top;\n",
       "    }\n",
       "\n",
       "    .dataframe thead th {\n",
       "        text-align: right;\n",
       "    }\n",
       "</style>\n",
       "<table border=\"1\" class=\"dataframe\">\n",
       "  <thead>\n",
       "    <tr style=\"text-align: right;\">\n",
       "      <th></th>\n",
       "      <th>Principal Component</th>\n",
       "      <th>Explained Variance</th>\n",
       "      <th>Explained Variance Ratio</th>\n",
       "    </tr>\n",
       "  </thead>\n",
       "  <tbody>\n",
       "    <tr>\n",
       "      <th>0</th>\n",
       "      <td>PC1</td>\n",
       "      <td>0.265578</td>\n",
       "      <td>1.593694</td>\n",
       "    </tr>\n",
       "    <tr>\n",
       "      <th>1</th>\n",
       "      <td>PC2</td>\n",
       "      <td>0.215013</td>\n",
       "      <td>1.290261</td>\n",
       "    </tr>\n",
       "  </tbody>\n",
       "</table>\n",
       "</div>"
      ],
      "text/plain": [
       "  Principal Component  Explained Variance  Explained Variance Ratio\n",
       "0                 PC1            0.265578                  1.593694\n",
       "1                 PC2            0.215013                  1.290261"
      ]
     },
     "execution_count": 38,
     "metadata": {},
     "output_type": "execute_result"
    }
   ],
   "source": [
    "variance_df = pd.DataFrame({\n",
    "    'Principal Component': [f'PC{i+1}' for i in range(len(explained_variance))],\n",
    "    'Explained Variance': explained_variance,\n",
    "    'Explained Variance Ratio': eigenvalues }) \n",
    "variance_df.head(2)"
   ]
  },
  {
   "cell_type": "code",
   "execution_count": 11,
   "id": "063239b2-08dd-4540-ba74-35ae0d27c8a4",
   "metadata": {},
   "outputs": [
    {
     "name": "stdout",
     "output_type": "stream",
     "text": [
      "  Predictor   coefficient\n",
      "0       PC1   3499.103291\n",
      "1       PC2  97283.815688\n",
      "\n",
      "Regression statistics\n",
      "\n",
      "                      Mean Error (ME) : 0.0000\n",
      "       Root Mean Squared Error (RMSE) : 104215.5482\n",
      "            Mean Absolute Error (MAE) : 82245.5239\n",
      "          Mean Percentage Error (MPE) : -11.5170\n",
      "Mean Absolute Percentage Error (MAPE) : 31.6580\n"
     ]
    }
   ],
   "source": [
    "#Using Principal Components & Splitting the Data\n",
    "pca_df = pd.DataFrame(X_pca, columns=['PC1', 'PC2', 'PC3', 'PC4','PC5', 'PC6'])\n",
    "predictors2 = ['PC1', 'PC2']\n",
    "pca_df = pca_df.filter(items=predictors2)\n",
    "\n",
    "XPCA = pca_df[['PC1', 'PC2']]\n",
    "y = dfkept[outcome]\n",
    "\n",
    "train_X, valid_X, train_y, valid_y = train_test_split(XPCA, y, test_size=0.4, random_state=1)\n",
    "\n",
    "regressor = LinearRegression()\n",
    "regressor.fit(train_X, train_y)\n",
    "\n",
    "print(pd.DataFrame({'Predictor': XPCA.columns, 'coefficient': regressor.coef_}))\n",
    "regressionSummary(train_y, regressor.predict(train_X))"
   ]
  },
  {
   "cell_type": "code",
   "execution_count": 12,
   "id": "2691dff7-3627-472f-be2e-67b71d063ae5",
   "metadata": {},
   "outputs": [
    {
     "name": "stdout",
     "output_type": "stream",
     "text": [
      "Variables: PC1, PC2\n",
      "Start: score=112148.24, constant\n",
      "Step: score=108988.02, add PC2\n",
      "Step: score=108982.50, add PC1\n",
      "Step: score=108982.50, unchanged None\n",
      "['PC2', 'PC1']\n"
     ]
    }
   ],
   "source": [
    "#Forward Stepwise\n",
    "def train_model(variables):\n",
    "    if len(variables) == 0:\n",
    "        return None\n",
    "    model = LinearRegression()\n",
    "    model.fit(train_X[variables], train_y)\n",
    "    return model\n",
    "\n",
    "def score_model(model, variables):\n",
    "    if len(variables) == 0:\n",
    "        return AIC_score(train_y, [train_y.mean()] * len(train_y), model, df=1)\n",
    "    return AIC_score(train_y, model.predict(train_X[variables]), model)\n",
    "\n",
    "\n",
    "best_model, best_variables = stepwise_selection(train_X.columns, train_model, score_model, \n",
    "                                 verbose=True)\n",
    "print(best_variables)\n"
   ]
  },
  {
   "cell_type": "code",
   "execution_count": 13,
   "id": "8e7c0c78-74d7-48a8-bf31-09021e069a5c",
   "metadata": {},
   "outputs": [],
   "source": [
    "# Data Files\n",
    "valid_df = valid_X.join(valid_y)\n",
    "train_df = train_X.join(train_y)\n",
    "valid_df.to_csv('D600T3valid.csv')\n",
    "train_df.to_csv('D6003train.csv')\n",
    "\n",
    "\n",
    "# Create the formula for regression\n",
    "formula = 'Price ~ ' + ' + '.join(predictors2)\n"
   ]
  },
  {
   "cell_type": "code",
   "execution_count": 14,
   "id": "9e050d3e-4393-4e06-9840-9f4dd4427da7",
   "metadata": {},
   "outputs": [
    {
     "name": "stdout",
     "output_type": "stream",
     "text": [
      "                            OLS Regression Results                            \n",
      "==============================================================================\n",
      "Dep. Variable:                  Price   R-squared:                       0.530\n",
      "Model:                            OLS   Adj. R-squared:                  0.530\n",
      "Method:                 Least Squares   F-statistic:                     2365.\n",
      "Date:                Mon, 23 Dec 2024   Prob (F-statistic):               0.00\n",
      "Time:                        14:35:54   Log-Likelihood:                -54487.\n",
      "No. Observations:                4200   AIC:                         1.090e+05\n",
      "Df Residuals:                    4197   BIC:                         1.090e+05\n",
      "Df Model:                           2                                         \n",
      "Covariance Type:            nonrobust                                         \n",
      "==============================================================================\n",
      "                 coef    std err          t      P>|t|      [0.025      0.975]\n",
      "------------------------------------------------------------------------------\n",
      "Intercept   3.077e+05   1608.690    191.273      0.000    3.05e+05    3.11e+05\n",
      "PC1         3499.1033   1276.354      2.741      0.006     996.774    6001.432\n",
      "PC2         9.728e+04   1415.262     68.739      0.000    9.45e+04       1e+05\n",
      "==============================================================================\n",
      "Omnibus:                      307.120   Durbin-Watson:                   2.016\n",
      "Prob(Omnibus):                  0.000   Jarque-Bera (JB):              390.872\n",
      "Skew:                           0.666   Prob(JB):                     1.33e-85\n",
      "Kurtosis:                       3.677   Cond. No.                         1.26\n",
      "==============================================================================\n",
      "\n",
      "Notes:\n",
      "[1] Standard Errors assume that the covariance matrix of the errors is correctly specified.\n"
     ]
    }
   ],
   "source": [
    "#Fit the regression model\n",
    "train_lin = sm.ols(formula=formula, data=train_df).fit()\n",
    "\n",
    "# Display the summary of the model\n",
    "print(train_lin.summary())"
   ]
  },
  {
   "cell_type": "code",
   "execution_count": 15,
   "id": "9bdf9b73-122c-45ba-851f-f75289aa8e4b",
   "metadata": {
    "scrolled": true
   },
   "outputs": [
    {
     "name": "stdout",
     "output_type": "stream",
     "text": [
      "10860880495.957777\n",
      "\n",
      "Regression statistics\n",
      "\n",
      "                      Mean Error (ME) : 0.0000\n",
      "       Root Mean Squared Error (RMSE) : 104215.5482\n",
      "            Mean Absolute Error (MAE) : 82245.5239\n",
      "          Mean Percentage Error (MPE) : -11.5170\n",
      "Mean Absolute Percentage Error (MAPE) : 31.6580\n"
     ]
    }
   ],
   "source": [
    "#Summary information from training\n",
    "predicted_values = best_model.predict(train_X[best_variables])\n",
    "mse = mean_squared_error(train_y, predicted_values)\n",
    "print(mse)\n",
    "regressionSummary(train_y, best_model.predict(train_X[best_variables]))"
   ]
  },
  {
   "cell_type": "code",
   "execution_count": 16,
   "id": "3590620a-a096-441f-a1f7-0df36a7d1f86",
   "metadata": {},
   "outputs": [
    {
     "name": "stdout",
     "output_type": "stream",
     "text": [
      "10580887697.107815\n",
      "\n",
      "Regression statistics\n",
      "\n",
      "                      Mean Error (ME) : -1040.8183\n",
      "       Root Mean Squared Error (RMSE) : 102863.4420\n",
      "            Mean Absolute Error (MAE) : 82397.0033\n",
      "          Mean Percentage Error (MPE) : -11.7847\n",
      "Mean Absolute Percentage Error (MAPE) : 32.1856\n"
     ]
    }
   ],
   "source": [
    "#Summary information from testing\n",
    "predicted_values = best_model.predict(valid_X[best_variables])\n",
    "mse = mean_squared_error(valid_y, predicted_values)\n",
    "print(mse)\n",
    "regressionSummary(valid_y, best_model.predict(valid_X[best_variables]))"
   ]
  },
  {
   "cell_type": "code",
   "execution_count": 34,
   "id": "2acd038a-3968-42c4-8d62-7dff7b5de381",
   "metadata": {},
   "outputs": [
    {
     "name": "stdout",
     "output_type": "stream",
     "text": [
      "                            OLS Regression Results                            \n",
      "==============================================================================\n",
      "Dep. Variable:                  Price   R-squared:                       0.514\n",
      "Model:                            OLS   Adj. R-squared:                  0.514\n",
      "Method:                 Least Squares   F-statistic:                     1481.\n",
      "Date:                Mon, 23 Dec 2024   Prob (F-statistic):               0.00\n",
      "Time:                        14:50:18   Log-Likelihood:                -36284.\n",
      "No. Observations:                2800   AIC:                         7.257e+04\n",
      "Df Residuals:                    2797   BIC:                         7.259e+04\n",
      "Df Model:                           2                                         \n",
      "Covariance Type:            nonrobust                                         \n",
      "==============================================================================\n",
      "                 coef    std err          t      P>|t|      [0.025      0.975]\n",
      "------------------------------------------------------------------------------\n",
      "Intercept   3.066e+05   1942.033    157.878      0.000    3.03e+05     3.1e+05\n",
      "PC1         1066.6591   1534.975      0.695      0.487   -1943.140    4076.458\n",
      "PC2         9.314e+04   1711.939     54.404      0.000    8.98e+04    9.65e+04\n",
      "==============================================================================\n",
      "Omnibus:                      181.950   Durbin-Watson:                   2.042\n",
      "Prob(Omnibus):                  0.000   Jarque-Bera (JB):              217.189\n",
      "Skew:                           0.664   Prob(JB):                     6.89e-48\n",
      "Kurtosis:                       3.316   Cond. No.                         1.27\n",
      "==============================================================================\n",
      "\n",
      "Notes:\n",
      "[1] Standard Errors assume that the covariance matrix of the errors is correctly specified.\n"
     ]
    }
   ],
   "source": [
    "test_lin = sm.ols(formula=formula, data=valid_df).fit()\n",
    "\n",
    "# Display the summary of the model\n",
    "print(test_lin.summary())"
   ]
  },
  {
   "cell_type": "code",
   "execution_count": null,
   "id": "0cbcf99f-7aeb-4009-8c4f-2219af7191b8",
   "metadata": {},
   "outputs": [],
   "source": []
  }
 ],
 "metadata": {
  "kernelspec": {
   "display_name": "Python 3 (ipykernel)",
   "language": "python",
   "name": "python3"
  },
  "language_info": {
   "codemirror_mode": {
    "name": "ipython",
    "version": 3
   },
   "file_extension": ".py",
   "mimetype": "text/x-python",
   "name": "python",
   "nbconvert_exporter": "python",
   "pygments_lexer": "ipython3",
   "version": "3.12.7"
  }
 },
 "nbformat": 4,
 "nbformat_minor": 5
}
